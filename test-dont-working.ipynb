{
 "cells": [
  {
   "cell_type": "code",
   "execution_count": 1,
   "metadata": {},
   "outputs": [],
   "source": [
    "import wrapt\n",
    "from urllib.request import urlopen\n",
    "from gensim.corpora import WikiCorpus\n",
    "from tqdm import tqdm_notebook as ntqdm"
   ]
  },
  {
   "cell_type": "code",
   "execution_count": 2,
   "metadata": {},
   "outputs": [],
   "source": [
    "def save(content):\n",
    "    # .....\n",
    "    pass"
   ]
  },
  {
   "cell_type": "code",
   "execution_count": 3,
   "metadata": {},
   "outputs": [],
   "source": [
    "def wiki2texts(wiki_bz_file):\n",
    "    with urlopen(wiki_bz_file) as f:\n",
    "        length = int(f.headers['Content-Length'])\n",
    "        amt = 0\n",
    "        with ntqdm(unit='B', unit_scale=True, total=length, desc=\"Loader\") as p:\n",
    "            wiki = WikiCorpus(TqdmWrapper(f, p), processes=1, lemmatize=False, dictionary={})\n",
    "\n",
    "            for text in wiki.get_texts():\n",
    "                amt = amt + 1\n",
    "                save(\" \".join(text))\n",
    "                if amt >= 100:\n",
    "                    break\n",
    "\n",
    "        print(\"Finat. load \" + str(amt) + \" articles\")"
   ]
  },
  {
   "cell_type": "code",
   "execution_count": 4,
   "metadata": {},
   "outputs": [],
   "source": [
    "class TqdmWrapper(wrapt.ObjectProxy):\n",
    "    def __init__(self, wrapped, p):\n",
    "        super().__init__(wrapped)\n",
    "        self._self_p = p\n",
    "\n",
    "    def read(self, amt=None):\n",
    "        if workProgress:\n",
    "            print(\".\")\n",
    "        self._self_p.update(amt)\n",
    "        return self.__wrapped__.read(amt)"
   ]
  },
  {
   "cell_type": "code",
   "execution_count": 5,
   "metadata": {},
   "outputs": [
    {
     "data": {
      "application/vnd.jupyter.widget-view+json": {
       "model_id": "241c2633544944deb6bad8fadfaf46e2",
       "version_major": 2,
       "version_minor": 0
      },
      "text/plain": [
       "HBox(children=(IntProgress(value=0, description='Loader', max=15962652046, style=ProgressStyle(description_wid…"
      ]
     },
     "metadata": {},
     "output_type": "display_data"
    },
    {
     "name": "stdout",
     "output_type": "stream",
     "text": [
      "\n",
      "Finat. load 100 articles\n"
     ]
    }
   ],
   "source": [
    "workProgress = False\n",
    "wiki2texts(\"https://dumps.wikimedia.org/enwiki/latest/enwiki-latest-pages-articles.xml.bz2\")"
   ]
  },
  {
   "cell_type": "code",
   "execution_count": null,
   "metadata": {},
   "outputs": [],
   "source": []
  }
 ],
 "metadata": {
  "kernelspec": {
   "display_name": "Python 3",
   "language": "python",
   "name": "python3"
  },
  "language_info": {
   "codemirror_mode": {
    "name": "ipython",
    "version": 3
   },
   "file_extension": ".py",
   "mimetype": "text/x-python",
   "name": "python",
   "nbconvert_exporter": "python",
   "pygments_lexer": "ipython3",
   "version": "3.6.7"
  }
 },
 "nbformat": 4,
 "nbformat_minor": 2
}
